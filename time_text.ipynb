{
 "cells": [
  {
   "cell_type": "code",
   "execution_count": 1,
   "metadata": {},
   "outputs": [
    {
     "name": "stdout",
     "output_type": "stream",
     "text": [
      "1727891296\n"
     ]
    }
   ],
   "source": [
    "import time\n",
    "unix_time = int(time.time())\n",
    "print(unix_time)"
   ]
  },
  {
   "cell_type": "code",
   "execution_count": 2,
   "metadata": {},
   "outputs": [
    {
     "name": "stderr",
     "output_type": "stream",
     "text": [
      "C:\\Users\\Harshith\\AppData\\Local\\Temp\\ipykernel_18960\\3317618465.py:8: DeprecationWarning: datetime.datetime.utcfromtimestamp() is deprecated and scheduled for removal in a future version. Use timezone-aware objects to represent datetimes in UTC: datetime.datetime.fromtimestamp(timestamp, datetime.UTC).\n",
      "  utc_dt = datetime.utcfromtimestamp(unix_time)\n"
     ]
    },
    {
     "name": "stdout",
     "output_type": "stream",
     "text": [
      "2024-10-02 23:18:16\n"
     ]
    }
   ],
   "source": [
    "from datetime import datetime\n",
    "import pytz\n",
    "\n",
    "# Given Unix timestamp\n",
    "unix_time = 1727891296\n",
    "\n",
    "# Convert Unix time to UTC datetime\n",
    "utc_dt = datetime.utcfromtimestamp(unix_time)\n",
    "\n",
    "# Define IST timezone\n",
    "ist_timezone = pytz.timezone('Asia/Kolkata')\n",
    "\n",
    "# Convert the UTC time to IST\n",
    "ist_dt = utc_dt.replace(tzinfo=pytz.utc).astimezone(ist_timezone)\n",
    "\n",
    "# Print the IST time in a readable format\n",
    "print(ist_dt.strftime('%Y-%m-%d %H:%M:%S'))"
   ]
  }
 ],
 "metadata": {
  "kernelspec": {
   "display_name": "Python 3",
   "language": "python",
   "name": "python3"
  },
  "language_info": {
   "codemirror_mode": {
    "name": "ipython",
    "version": 3
   },
   "file_extension": ".py",
   "mimetype": "text/x-python",
   "name": "python",
   "nbconvert_exporter": "python",
   "pygments_lexer": "ipython3",
   "version": "3.12.4"
  }
 },
 "nbformat": 4,
 "nbformat_minor": 2
}
